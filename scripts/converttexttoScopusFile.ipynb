{
 "cells": [
  {
   "cell_type": "code",
   "execution_count": 2,
   "metadata": {},
   "outputs": [],
   "source": [
    "import pandas as pd\n",
    "import numpy as np\n",
    "import io\n",
    "import sys"
   ]
  },
  {
   "cell_type": "code",
   "execution_count": 3,
   "metadata": {},
   "outputs": [
    {
     "data": {
      "text/html": [
       "<div>\n",
       "<style scoped>\n",
       "    .dataframe tbody tr th:only-of-type {\n",
       "        vertical-align: middle;\n",
       "    }\n",
       "\n",
       "    .dataframe tbody tr th {\n",
       "        vertical-align: top;\n",
       "    }\n",
       "\n",
       "    .dataframe thead th {\n",
       "        text-align: right;\n",
       "    }\n",
       "</style>\n",
       "<table border=\"1\" class=\"dataframe\">\n",
       "  <thead>\n",
       "    <tr style=\"text-align: right;\">\n",
       "      <th></th>\n",
       "      <th>Title</th>\n",
       "      <th>Link</th>\n",
       "      <th>Abstract</th>\n",
       "      <th>Author Keywords</th>\n",
       "      <th>Index Keywords</th>\n",
       "    </tr>\n",
       "  </thead>\n",
       "  <tbody>\n",
       "    <tr>\n",
       "      <th>0</th>\n",
       "      <td>UAV-based structural damage mapping: A review</td>\n",
       "      <td>https://www.scopus.com/inward/record.uri?eid=2...</td>\n",
       "      <td>Structural disaster damage detection and chara...</td>\n",
       "      <td>CNN; Computer vision; Drone; First responder; ...</td>\n",
       "      <td>NaN</td>\n",
       "    </tr>\n",
       "    <tr>\n",
       "      <th>1</th>\n",
       "      <td>MAPPING POVERTY in the PHILIPPINES USING MACHI...</td>\n",
       "      <td>https://www.scopus.com/inward/record.uri?eid=2...</td>\n",
       "      <td>Mapping the distribution of poverty in develop...</td>\n",
       "      <td>Deep learning; GIS; Machine learning; OpenStre...</td>\n",
       "      <td>Cost effectiveness; Crowdsourcing; Deep learni...</td>\n",
       "    </tr>\n",
       "    <tr>\n",
       "      <th>2</th>\n",
       "      <td>Research on remote sensing image data attack m...</td>\n",
       "      <td>https://www.scopus.com/inward/record.uri?eid=2...</td>\n",
       "      <td>At present, with the breakthrough and applicat...</td>\n",
       "      <td>Data Attack; Deep Learning; Remote Sensing Image</td>\n",
       "      <td>Engineering education; Learning systems; Remot...</td>\n",
       "    </tr>\n",
       "    <tr>\n",
       "      <th>3</th>\n",
       "      <td>Remote sensing and time series data fused mult...</td>\n",
       "      <td>https://www.scopus.com/inward/record.uri?eid=2...</td>\n",
       "      <td>With the rapid development of the times, human...</td>\n",
       "      <td>Deep learning; Multi-classification; Multimoda...</td>\n",
       "      <td>Deep learning; Image processing; Time series; ...</td>\n",
       "    </tr>\n",
       "    <tr>\n",
       "      <th>4</th>\n",
       "      <td>Refining the features transferred from pre-tra...</td>\n",
       "      <td>https://www.scopus.com/inward/record.uri?eid=2...</td>\n",
       "      <td>Feature selection plays a vital role in image ...</td>\n",
       "      <td>NaN</td>\n",
       "      <td>Antennas; Deep learning; Image processing; Imp...</td>\n",
       "    </tr>\n",
       "  </tbody>\n",
       "</table>\n",
       "</div>"
      ],
      "text/plain": [
       "                                               Title  \\\n",
       "0      UAV-based structural damage mapping: A review   \n",
       "1  MAPPING POVERTY in the PHILIPPINES USING MACHI...   \n",
       "2  Research on remote sensing image data attack m...   \n",
       "3  Remote sensing and time series data fused mult...   \n",
       "4  Refining the features transferred from pre-tra...   \n",
       "\n",
       "                                                Link  \\\n",
       "0  https://www.scopus.com/inward/record.uri?eid=2...   \n",
       "1  https://www.scopus.com/inward/record.uri?eid=2...   \n",
       "2  https://www.scopus.com/inward/record.uri?eid=2...   \n",
       "3  https://www.scopus.com/inward/record.uri?eid=2...   \n",
       "4  https://www.scopus.com/inward/record.uri?eid=2...   \n",
       "\n",
       "                                            Abstract  \\\n",
       "0  Structural disaster damage detection and chara...   \n",
       "1  Mapping the distribution of poverty in develop...   \n",
       "2  At present, with the breakthrough and applicat...   \n",
       "3  With the rapid development of the times, human...   \n",
       "4  Feature selection plays a vital role in image ...   \n",
       "\n",
       "                                     Author Keywords  \\\n",
       "0  CNN; Computer vision; Drone; First responder; ...   \n",
       "1  Deep learning; GIS; Machine learning; OpenStre...   \n",
       "2   Data Attack; Deep Learning; Remote Sensing Image   \n",
       "3  Deep learning; Multi-classification; Multimoda...   \n",
       "4                                                NaN   \n",
       "\n",
       "                                      Index Keywords  \n",
       "0                                                NaN  \n",
       "1  Cost effectiveness; Crowdsourcing; Deep learni...  \n",
       "2  Engineering education; Learning systems; Remot...  \n",
       "3  Deep learning; Image processing; Time series; ...  \n",
       "4  Antennas; Deep learning; Image processing; Imp...  "
      ]
     },
     "execution_count": 3,
     "metadata": {},
     "output_type": "execute_result"
    }
   ],
   "source": [
    "dfScopus = pd.read_csv('scopus.csv')\n",
    "dfScopus.head()"
   ]
  },
  {
   "cell_type": "code",
   "execution_count": 7,
   "metadata": {},
   "outputs": [
    {
     "name": "stdout",
     "output_type": "stream",
     "text": [
      "https://www.scopus.com/inward/record.uri?eid=2-s2.0-85077571589&doi=10.3390%2fijgi9010014&partnerID=40&md5=708dc44e5a994554c9b93087d0c269bd\n",
      "https://www.scopus.com/inward/record.uri?eid=2-s2.0-85081564635&doi=10.5194%2fisprs-archives-XLII-4-W19-425-2019&partnerID=40&md5=61a7b9267d467c27ddbe6bc89699e166\n",
      "https://www.scopus.com/inward/record.uri?eid=2-s2.0-85081065949&doi=10.1145%2f3377713.3377787&partnerID=40&md5=5dd593639497e0e1e5fb575cad49a5e9\n",
      "https://www.scopus.com/inward/record.uri?eid=2-s2.0-85081181890&doi=10.1145%2f3376067.3376100&partnerID=40&md5=f2bd5b26d16f91983d468662d2ccba41\n",
      "https://www.scopus.com/inward/record.uri?eid=2-s2.0-85067875541&doi=10.1080%2f01431161.2019.1629716&partnerID=40&md5=e2f849fe58568f3c1b41bff94389eec7\n",
      "https://www.scopus.com/inward/record.uri?eid=2-s2.0-85086070149&doi=10.1145%2f3386415.3387103&partnerID=40&md5=e3c87378b9ece21035de305335cf0b2e\n",
      "https://www.scopus.com/inward/record.uri?eid=2-s2.0-85079317514&doi=10.1109%2fJSTARS.2019.2951725&partnerID=40&md5=1ac76a0cc8e1a99d54bc9846de84f0b0\n",
      "https://www.scopus.com/inward/record.uri?eid=2-s2.0-85076550652&doi=10.3390%2frs11232881&partnerID=40&md5=95b7e65d6b45d1317d23fe7e215d2a55\n",
      "https://www.scopus.com/inward/record.uri?eid=2-s2.0-85076561725&doi=10.3390%2frs11232870&partnerID=40&md5=09eda4af82fc5f44ad65223656b28b6b\n",
      "https://www.scopus.com/inward/record.uri?eid=2-s2.0-85062834349&doi=10.1007%2fs00500-019-03878-8&partnerID=40&md5=bcb5be80f292cf83539f03c74b46f8c5\n"
     ]
    }
   ],
   "source": [
    "for ii in range(10):\n",
    "    print(dfScopus['Link'][ii])"
   ]
  },
  {
   "cell_type": "code",
   "execution_count": 8,
   "metadata": {},
   "outputs": [
    {
     "data": {
      "text/plain": [
       "'Structural disaster damage detection and characterization is one of the oldest remote sensing challenges, and the utility of virtually every type of active and passive sensor deployed on various air- and spaceborne platforms has been assessed. The proliferation and growing sophistication of unmanned aerial vehicles (UAVs) in recent years has opened up many new opportunities for damage mapping, due to the high spatial resolution, the resulting stereo images and derivatives, and the flexibility of the platform. This study provides a comprehensive review of how UAV-based damage mapping has evolved from providing simple descriptive overviews of a disaster science, to more sophisticated texture and segmentation-based approaches, and finally to studies using advanced deep learning approaches, as well as multi-temporal and multi-perspective imagery to provide comprehensive damage descriptions. The paper further reviews studies on the utility of the developed mapping strategies and image processing pipelines for first responders, focusing especially on outcomes of two recent European research projects, RECONASS (Reconstruction and Recovery Planning: Rapid and Continuously Updated Construction Damage, and Related Needs Assessment) and INACHUS (Technological and Methodological Solutions for Integrated Wide Area Situation Awareness and Survivor Localization to Support Search and Rescue Teams). Finally, recent and emerging developments are reviewed, such as recent improvements in machine learning, increasing mapping autonomy, damage mapping in interior, GPS-denied environments, the utility of UAVs for infrastructure mapping and maintenance, as well as the emergence of UAVs with robotic abilities. © 2019 by the authors.'"
      ]
     },
     "execution_count": 8,
     "metadata": {},
     "output_type": "execute_result"
    }
   ],
   "source": [
    "dfScopus['Abstract'][0]"
   ]
  },
  {
   "cell_type": "code",
   "execution_count": null,
   "metadata": {},
   "outputs": [],
   "source": []
  },
  {
   "cell_type": "code",
   "execution_count": null,
   "metadata": {},
   "outputs": [],
   "source": [
    "dfDoc = pd.read_csv()"
   ]
  },
  {
   "cell_type": "markdown",
   "metadata": {},
   "source": [
    "### Testes com library re"
   ]
  },
  {
   "cell_type": "code",
   "execution_count": 1,
   "metadata": {},
   "outputs": [],
   "source": [
    "import re"
   ]
  },
  {
   "cell_type": "code",
   "execution_count": 8,
   "metadata": {},
   "outputs": [],
   "source": [
    "txt = \"Ana Luisa Celino Coutinho ; Adriana Castelo Branco de Siqueira\"\n"
   ]
  },
  {
   "cell_type": "code",
   "execution_count": 10,
   "metadata": {},
   "outputs": [
    {
     "name": "stdout",
     "output_type": "stream",
     "text": [
      "['Coutinho ; Adriana']\n"
     ]
    }
   ],
   "source": [
    "search1 = re.findall(\"[A-Z][a-z]+\\s[;]\\s[A-Z][a-z]+\", txt)\n",
    "print(search1)"
   ]
  },
  {
   "cell_type": "code",
   "execution_count": 4,
   "metadata": {},
   "outputs": [
    {
     "name": "stdout",
     "output_type": "stream",
     "text": [
      "['ouza, A']\n"
     ]
    }
   ],
   "source": [
    "search2 = re.findall(\"[^A-Z][a-z]+[,]\\s[A-Z]\", txt)\n",
    "print(search2)"
   ]
  },
  {
   "cell_type": "code",
   "execution_count": 5,
   "metadata": {},
   "outputs": [
    {
     "name": "stdout",
     "output_type": "stream",
     "text": [
      "['De Mello E']\n"
     ]
    }
   ],
   "source": [
    "search3 = re.findall(\"[A-Z][a-z]+\\s[A-Z][a-z]+\\s[A-Z]\", txt)\n",
    "print(search3)"
   ]
  },
  {
   "cell_type": "code",
   "execution_count": 11,
   "metadata": {},
   "outputs": [],
   "source": [
    "linha = \"Direito e Desenvolvimento, 01 June 2017, Vol.7(1), pp.137-154 [Periódico revisado por pares]\""
   ]
  },
  {
   "cell_type": "code",
   "execution_count": 12,
   "metadata": {},
   "outputs": [
    {
     "name": "stdout",
     "output_type": "stream",
     "text": [
      "<re.Match object; span=(35, 39), match='2017'>\n"
     ]
    }
   ],
   "source": [
    "seaRef1 = re.search(\"20[0-9][0-9]\", linha)\n",
    "print(seaRef1)"
   ]
  },
  {
   "cell_type": "code",
   "execution_count": 13,
   "metadata": {},
   "outputs": [
    {
     "name": "stdout",
     "output_type": "stream",
     "text": [
      "None\n"
     ]
    }
   ],
   "source": [
    "seaRef2 = re.search(\"19[0-9][0-9]\", linha)\n",
    "print(seaRef2)"
   ]
  },
  {
   "cell_type": "code",
   "execution_count": 17,
   "metadata": {},
   "outputs": [
    {
     "name": "stdout",
     "output_type": "stream",
     "text": [
      "<re.Match object; span=(41, 46), match='Vol.7'>\n"
     ]
    }
   ],
   "source": [
    "seaRef3 = re.search(\"Vol.[0-9]*\", linha)\n",
    "print(seaRef3)"
   ]
  },
  {
   "cell_type": "code",
   "execution_count": 16,
   "metadata": {},
   "outputs": [
    {
     "name": "stdout",
     "output_type": "stream",
     "text": [
      "urra\n"
     ]
    }
   ],
   "source": [
    "if (seaRef1 != None or seaRef2 != None) and seaRef3 != None: \n",
    "    print(\"urra\")"
   ]
  },
  {
   "cell_type": "code",
   "execution_count": 18,
   "metadata": {},
   "outputs": [],
   "source": [
    "linha = \"O presente artigo analisa a composição sociorracial dos estudantes do Instituto Federal de Educação, Ciência e Tecnologia de Minas Gerais (IFMG) – campus Governador Valadares. O objetivo é identificar o perfil dos discentes com relação aos critérios de cor/raça e condição socioeconômica. O IFMG garante, em seu processo seletivo, reserva de vagas para candidatos oriundos de escola pública, negros e de baixa renda, conforme a Lei nº 12.711/2012. A eficácia das ações afirmativas de ingresso de estudantes nas instituições públicas federais de ensino deve ser verificada através de políticas institucionais de acompanhamento dos alunos ingressantes pelo sistema de cotas. Dessa forma, reunimos e analisamos dados dos estudantes, através das informações cadastradas no sistema de registro acadêmico (Conecta), que constituem importantes fontes para o acompanhamento e avaliação das políticas institucionais do IFMG, de modo geral, e mais especificamente do campus Governador Valadares, relacionadas... Directory of Open Access Journals (DOAJ)\""
   ]
  },
  {
   "cell_type": "code",
   "execution_count": 19,
   "metadata": {},
   "outputs": [
    {
     "name": "stdout",
     "output_type": "stream",
     "text": [
      "['aladares. O', 'mica. O', 'cotas. D']\n"
     ]
    }
   ],
   "source": [
    "seaRef1 = re.findall(\"[a-z]+\\.\\s[A-Z]\", linha)\n",
    "print(seaRef1)"
   ]
  },
  {
   "cell_type": "code",
   "execution_count": 21,
   "metadata": {},
   "outputs": [
    {
     "name": "stdout",
     "output_type": "stream",
     "text": [
      "['Directory of Open Access']\n"
     ]
    }
   ],
   "source": [
    "seaRef2 = re.findall(\"Directory of Open Access\", linha) \n",
    "print(seaRef2)"
   ]
  },
  {
   "cell_type": "code",
   "execution_count": null,
   "metadata": {},
   "outputs": [],
   "source": []
  }
 ],
 "metadata": {
  "kernelspec": {
   "display_name": "Python 3",
   "language": "python",
   "name": "python3"
  },
  "language_info": {
   "codemirror_mode": {
    "name": "ipython",
    "version": 3
   },
   "file_extension": ".py",
   "mimetype": "text/x-python",
   "name": "python",
   "nbconvert_exporter": "python",
   "pygments_lexer": "ipython3",
   "version": "3.8.5"
  }
 },
 "nbformat": 4,
 "nbformat_minor": 4
}
